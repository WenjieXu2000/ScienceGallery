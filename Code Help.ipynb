{
 "cells": [
  {
   "cell_type": "markdown",
   "metadata": {},
   "source": []
  },
  {
   "cell_type": "markdown",
   "metadata": {},
   "source": []
  },
  {
   "cell_type": "markdown",
   "metadata": {},
   "source": [
    "- Axes上下左右四个轴的控制容器：\n",
    "- 去除容器顶部的线\n",
    "  - `ax.spines['Top',right,'left,'bottom].set_visible(False)`\n",
    "  - `ax.spines['Top',right,'left,'bottom].set_linewidth(5)`\n",
    "  - `ax.spines[:].set_visible(False)`\n",
    "  - `spines.top.set_visible(False)`"
   ]
  },
  {
   "cell_type": "markdown",
   "metadata": {},
   "source": [
    "- 指定长度的线，横线用`hlines`，竖线用`vlines`\n",
    "- 在横轴上加一条水平线用`axhline`"
   ]
  },
  {
   "cell_type": "markdown",
   "metadata": {},
   "source": []
  }
 ],
 "metadata": {
  "language_info": {
   "name": "python"
  },
  "orig_nbformat": 4
 },
 "nbformat": 4,
 "nbformat_minor": 2
}
